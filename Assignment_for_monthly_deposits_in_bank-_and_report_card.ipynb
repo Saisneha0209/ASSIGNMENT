{
  "nbformat": 4,
  "nbformat_minor": 0,
  "metadata": {
    "colab": {
      "provenance": [],
      "authorship_tag": "ABX9TyNXV+NEhLciY470gfczjaE+",
      "include_colab_link": true
    },
    "kernelspec": {
      "name": "python3",
      "display_name": "Python 3"
    },
    "language_info": {
      "name": "python"
    }
  },
  "cells": [
    {
      "cell_type": "markdown",
      "metadata": {
        "id": "view-in-github",
        "colab_type": "text"
      },
      "source": [
        "<a href=\"https://colab.research.google.com/github/Saisneha0209/ASSIGNMENT/blob/main/Assignment_for_monthly_deposits_in_bank-_and_report_card.ipynb\" target=\"_parent\"><img src=\"https://colab.research.google.com/assets/colab-badge.svg\" alt=\"Open In Colab\"/></a>"
      ]
    },
    {
      "cell_type": "code",
      "execution_count": 6,
      "metadata": {
        "colab": {
          "base_uri": "https://localhost:8080/"
        },
        "id": "qxwscWv8IFZ2",
        "outputId": "7ea43b6f-3c63-4899-c2d5-acaaf33e57dd"
      },
      "outputs": [
        {
          "output_type": "stream",
          "name": "stdout",
          "text": [
            "Account information\n",
            "Account holder name:\n",
            "SAISNEHA MUDULI\n",
            "MONTHLY DEPOSITS:\n",
            "Year in which deposited:\n",
            "2024-25\n",
            "Money deposited in JANUARY is: 2000\n",
            "Money deposited in FEBRUARY is: 5000\n",
            "Money deposited in MARCH is: 3000\n",
            "Money deposited in APRIL is: 50000\n",
            "Money deposited in MAY is: 20000\n",
            "Money deposited in JUNE is: 40000\n",
            "Money deposited in JULY is: 50000\n",
            "Money deposited in AUGUST is: 30000\n",
            "Money deposited in SEPTEMBER is: 10000\n",
            "Money deposited in OCTOBER is: 40000\n",
            "Money deposited in NOVEMBER is: 4000\n",
            "Money deposited in DECEMBER is: 60000\n",
            "TOTAL BALANCE IN BANK: 314000\n"
          ]
        }
      ],
      "source": [
        "print(\"Account information\") #Information to be given for details of the account holder\n",
        "print(\"Account holder name:\")\n",
        "print(\"SAISNEHA MUDULI\")\n",
        "print(\"MONTHLY DEPOSITS:\")\n",
        "print(\"Year in which deposited:\")\n",
        "print(\"2024-25\")  #Have to write in which year all the money has been deposited\n",
        "JANUARY=2000\n",
        "print(\"Money deposited in JANUARY is:\",JANUARY)\n",
        "FEBRUARY=5000\n",
        "print(\"Money deposited in FEBRUARY is:\",FEBRUARY)\n",
        "MARCH=3000\n",
        "print(\"Money deposited in MARCH is:\",MARCH)\n",
        "APRIL=50000\n",
        "print(\"Money deposited in APRIL is:\",APRIL)\n",
        "MAY=20000\n",
        "print(\"Money deposited in MAY is:\",MAY)\n",
        "JUNE=40000\n",
        "print(\"Money deposited in JUNE is:\",JUNE)\n",
        "JULY=50000\n",
        "print(\"Money deposited in JULY is:\",JULY)\n",
        "AUGUST=30000\n",
        "print(\"Money deposited in AUGUST is:\",AUGUST)\n",
        "SEPTEMBER=10000\n",
        "print(\"Money deposited in SEPTEMBER is:\",SEPTEMBER)\n",
        "OCTOBER=40000\n",
        "print(\"Money deposited in OCTOBER is:\",OCTOBER)\n",
        "NOVEMBER=4000\n",
        "print(\"Money deposited in NOVEMBER is:\",NOVEMBER)\n",
        "DECEMBER=60000\n",
        "print(\"Money deposited in DECEMBER is:\",DECEMBER)\n",
        "total_balance=JANUARY+FEBRUARY+MARCH+APRIL+MAY+JUNE+JULY+AUGUST+SEPTEMBER+OCTOBER+NOVEMBER+DECEMBER #AT LAST YOU HAVE TO WRITE TOTAL BALANCE CAUSE\n",
        "                                                        #A BANK ACCOUNT SHOULD CONTAIN THE HISTORY OF HOW MUCH BALANCE HAS BEEN MADE\n",
        "print(\"TOTAL BALANCE IN BANK:\",total_balance)\n"
      ]
    },
    {
      "cell_type": "markdown",
      "source": [
        "#Report card of a particular student of class 11th and session 2024-25"
      ],
      "metadata": {
        "id": "QB_nSpECRITS"
      }
    },
    {
      "cell_type": "code",
      "source": [
        "print(\"REPORT CARD OF SESSION 2025-26\")  #Have to write which session report card are you making\n",
        "print(\"Name of the student is:Saisneha\") #Fill all th details of the student\n",
        "class_name=11\n",
        "roll_no=25\n",
        "print(\"CLASS:\",class_name)\n",
        "print(\"ROLL NO:\",roll_no)\n",
        "print(\"SUBJECTS AND MARKS OBTAINED OUT OF 100:-\") #Fill all the marks obtained\n",
        "MATHS=89\n",
        "ENGLISH=99\n",
        "SOCIAL_SCIENCE=98\n",
        "HINDI=86\n",
        "SCIENCE=90\n",
        "print(\"MATHS:\",MATHS)\n",
        "print(\"ENGLISH:\",ENGLISH)\n",
        "print(\"SOCIAL SCIENCE:\",SOCIAL_SCIENCE)\n",
        "print(\"HINDI:\",HINDI)\n",
        "print(\"SCIENCE:\",SCIENCE)\n",
        "#Print all and before printing check whether you have putted coreect syntax or not"
      ],
      "metadata": {
        "colab": {
          "base_uri": "https://localhost:8080/"
        },
        "id": "wtAmuKhTOXbG",
        "outputId": "39d626c1-6bf1-4fc0-dbff-a81c299966bd"
      },
      "execution_count": 19,
      "outputs": [
        {
          "output_type": "stream",
          "name": "stdout",
          "text": [
            "REPORT CARD OF SESSION 2025-26\n",
            "Name of the student is:Saisneha\n",
            "CLASS: 11\n",
            "ROLL NO: 25\n",
            "SUBJECTS AND MARKS OBTAINED OUT OF 100:-\n",
            "MATHS: 89\n",
            "ENGLISH: 99\n",
            "SOCIAL SCIENCE: 98\n",
            "HINDI: 86\n",
            "SCIENCE: 90\n"
          ]
        }
      ]
    }
  ]
}