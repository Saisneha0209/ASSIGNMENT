{
  "nbformat": 4,
  "nbformat_minor": 0,
  "metadata": {
    "colab": {
      "provenance": [],
      "authorship_tag": "ABX9TyNIwEO4bqrSv56XgCu2FVPn",
      "include_colab_link": true
    },
    "kernelspec": {
      "name": "python3",
      "display_name": "Python 3"
    },
    "language_info": {
      "name": "python"
    }
  },
  "cells": [
    {
      "cell_type": "markdown",
      "metadata": {
        "id": "view-in-github",
        "colab_type": "text"
      },
      "source": [
        "<a href=\"https://colab.research.google.com/github/Saisneha0209/ASSIGNMENT/blob/main/PROJECT_1_LIST.ipynb\" target=\"_parent\"><img src=\"https://colab.research.google.com/assets/colab-badge.svg\" alt=\"Open In Colab\"/></a>"
      ]
    },
    {
      "cell_type": "code",
      "execution_count": 1,
      "metadata": {
        "colab": {
          "base_uri": "https://localhost:8080/"
        },
        "id": "roNe2Xm5EP9Q",
        "outputId": "a2f8c50c-18f7-4868-91d7-1a4ab421643a"
      },
      "outputs": [
        {
          "output_type": "stream",
          "name": "stdout",
          "text": [
            "3795\n",
            "['Odisha', 'Chandigarh', 'Gujarat', 'Shimla', 'Bihar']\n",
            "['shirt', 'pant', 'socks', 'hat', 'sunglasses', 'facewash', 'moisturizer', 'scrunchies', 'crocks']\n",
            "['female', 'male']\n",
            "[1200, 520, 455, 250, 590]\n"
          ]
        }
      ],
      "source": [
        "customer_name=[\"Damini\",\"Kiara\",\"Vineet\",\"Preeti\",\"Shree\",\"Sudeeksha\",\"Shyam\",\"Krishna\",\"Mohan\"]\n",
        "states=[\"Odisha\",\"Chandigarh\",\"Odisha\",\"Gujarat\",\"Odisha\",\"Shimla\",\"Bihar\",\"Bihar\"]\n",
        "product=[\"shirt\",\"pant\",\"socks\",\"hat\",\"sunglasses\",\"facewash\",\"moisturizer\",\"scrunchies\",\"crocks\"]\n",
        "amount=[450,520,120,455,630,250,450,140,780]\n",
        "gender=[\"female\",\"male\"]\n",
        "total_sales=0\n",
        "for i in amount: #1st analysis for total amount(sales)\n",
        "  total_sales=total_sales+i\n",
        "print(total_sales)\n",
        "unique_state=[]\n",
        "sales_state=[]\n",
        "for i in states: #2nd analysis for the states(We do not want states to come 2 times and we can not count 2 times so for this)\n",
        "  if i not in unique_state:\n",
        "   unique_state.append(i)\n",
        "\n",
        "# Initialize sales_state with zeros for each unique state\n",
        "sales_state = [0] * len(unique_state)\n",
        "\n",
        "print(unique_state) # Print unique states\n",
        "\n",
        "#product wise\n",
        "unique_product=[]\n",
        "for i in product:\n",
        "  if i not in unique_product:\n",
        "    unique_product.append(i)\n",
        "print(unique_product) # Print unique products\n",
        "\n",
        "#gender wise\n",
        "unique_gender=[]\n",
        "for i in gender:\n",
        "  if i not in unique_gender:\n",
        "    unique_gender.append(i)\n",
        "print(unique_gender) # Print unique gender\n",
        "\n",
        " #state wise sales calculation\n",
        "for i in range(len(states)):\n",
        "     index=unique_state.index(states[i])\n",
        "     sales_state[index]=sales_state[index]+amount[i]\n",
        "print(sales_state) # Print state-wise sales"
      ]
    }
  ]
}