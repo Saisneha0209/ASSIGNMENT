{
  "nbformat": 4,
  "nbformat_minor": 0,
  "metadata": {
    "colab": {
      "provenance": [],
      "authorship_tag": "ABX9TyP2b0KgUlUGwf8bUohWQTFl",
      "include_colab_link": true
    },
    "kernelspec": {
      "name": "python3",
      "display_name": "Python 3"
    },
    "language_info": {
      "name": "python"
    }
  },
  "cells": [
    {
      "cell_type": "markdown",
      "metadata": {
        "id": "view-in-github",
        "colab_type": "text"
      },
      "source": [
        "<a href=\"https://colab.research.google.com/github/Saisneha0209/ASSIGNMENT/blob/main/File_handling.ipynb\" target=\"_parent\"><img src=\"https://colab.research.google.com/assets/colab-badge.svg\" alt=\"Open In Colab\"/></a>"
      ]
    },
    {
      "cell_type": "code",
      "execution_count": 6,
      "metadata": {
        "id": "BNbQoTAsPLQB"
      },
      "outputs": [],
      "source": [
        "with open(\"xyz.txt\",\"w\") as file:\n",
        "  file.write(\"ITE\")"
      ]
    },
    {
      "cell_type": "code",
      "source": [
        "with open(\"xyz.txt\",\"r\") as file:\n",
        "  data = file.read()\n",
        "  print(data)"
      ],
      "metadata": {
        "colab": {
          "base_uri": "https://localhost:8080/"
        },
        "id": "1_c1ZoLUQIJS",
        "outputId": "15ab30c9-434c-4a50-f965-75741bdda303"
      },
      "execution_count": 8,
      "outputs": [
        {
          "output_type": "stream",
          "name": "stdout",
          "text": [
            "ITE\n"
          ]
        }
      ]
    },
    {
      "cell_type": "code",
      "source": [
        "with open(\"xyz.txt\",\"w\") as file:\n",
        "  file.write(\"xyz\")"
      ],
      "metadata": {
        "id": "XTiktp-kQIV3"
      },
      "execution_count": 9,
      "outputs": []
    }
  ]
}