{
  "nbformat": 4,
  "nbformat_minor": 0,
  "metadata": {
    "colab": {
      "provenance": [],
      "authorship_tag": "ABX9TyP/Ykq3NGj5IrS2W+M4+45W",
      "include_colab_link": true
    },
    "kernelspec": {
      "name": "python3",
      "display_name": "Python 3"
    },
    "language_info": {
      "name": "python"
    }
  },
  "cells": [
    {
      "cell_type": "markdown",
      "metadata": {
        "id": "view-in-github",
        "colab_type": "text"
      },
      "source": [
        "<a href=\"https://colab.research.google.com/github/Saisneha0209/ASSIGNMENT/blob/main/PRACTISE_LIST.ipynb\" target=\"_parent\"><img src=\"https://colab.research.google.com/assets/colab-badge.svg\" alt=\"Open In Colab\"/></a>"
      ]
    },
    {
      "cell_type": "code",
      "execution_count": 1,
      "metadata": {
        "colab": {
          "base_uri": "https://localhost:8080/"
        },
        "id": "A2gnA0XS1mU_",
        "outputId": "37fad404-f0a0-42c2-f728-f94f5df72d68"
      },
      "outputs": [
        {
          "output_type": "stream",
          "name": "stdout",
          "text": [
            "Enter item name (or 'stop' to finish): Black Shirt\n",
            "Enter price of item: 450\n",
            "Enter buyer name: Damini\n",
            "Enter gender (M/F): F\n",
            "Enter quantity: 5\n",
            "Sale added!\n",
            "Enter item name (or 'stop' to finish): White Top\n",
            "Enter price of item: 890\n",
            "Enter buyer name: Kiara\n",
            "Enter gender (M/F): F\n",
            "Enter quantity: 2\n",
            "Sale added!\n",
            "Enter item name (or 'stop' to finish): stop\n",
            "   Sales Record   \n",
            "Damini ( F ) bought 5 Black Shirt at 450.0 each → Total = 2250.0\n",
            "Kiara ( F ) bought 2 White Top at 890.0 each → Total = 1780.0\n"
          ]
        }
      ],
      "source": [
        "sales = []\n",
        "\n",
        "while True:\n",
        "    item = input(\"Enter item name (or 'stop' to finish): \")\n",
        "    if item == \"stop\":\n",
        "        break\n",
        "\n",
        "    price = float(input(\"Enter price of item: \"))\n",
        "    buyer = input(\"Enter buyer name: \")\n",
        "    gender = input(\"Enter gender (M/F): \")\n",
        "    quantity = int(input(\"Enter quantity: \"))\n",
        "    total = price * quantity\n",
        "\n",
        "    sale = [item, price, buyer, gender, quantity, total]\n",
        "    sales.append(sale)\n",
        "    print(\"Sale added!\")\n",
        "\n",
        "print(\"   Sales Record   \")\n",
        "for s in sales:\n",
        "    print(s[2], \"(\", s[3], \")\", \"bought\", s[4], s[0], \"at\", s[1], \"each  Total =\", s[5])\n"
      ]
    }
  ]
}