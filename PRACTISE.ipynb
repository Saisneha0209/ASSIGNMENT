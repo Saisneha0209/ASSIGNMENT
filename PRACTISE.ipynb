{
  "nbformat": 4,
  "nbformat_minor": 0,
  "metadata": {
    "colab": {
      "provenance": [],
      "authorship_tag": "ABX9TyOEolSKESCOLUErH0gr3Oj5",
      "include_colab_link": true
    },
    "kernelspec": {
      "name": "python3",
      "display_name": "Python 3"
    },
    "language_info": {
      "name": "python"
    }
  },
  "cells": [
    {
      "cell_type": "markdown",
      "metadata": {
        "id": "view-in-github",
        "colab_type": "text"
      },
      "source": [
        "<a href=\"https://colab.research.google.com/github/Saisneha0209/ASSIGNMENT/blob/main/PRACTISE.ipynb\" target=\"_parent\"><img src=\"https://colab.research.google.com/assets/colab-badge.svg\" alt=\"Open In Colab\"/></a>"
      ]
    },
    {
      "cell_type": "code",
      "execution_count": 1,
      "metadata": {
        "colab": {
          "base_uri": "https://localhost:8080/"
        },
        "id": "_OigGTrUFdFm",
        "outputId": "d3d8276e-b91c-4718-a3d7-5290dedffdcb"
      },
      "outputs": [
        {
          "output_type": "stream",
          "name": "stdout",
          "text": [
            "Twinkle twinkle little star.\n",
            "How I wonder what you are.\n",
            "Up above the world so high.\n",
            "Like a diamond in the sky.\n",
            "Twinkle twinkle little star.\n",
            "How I wonder what you are.\n",
            "\n",
            "Twinkle twinkle little star.\n",
            "How I wonder what you are.\n",
            "Up above the world so high.\n",
            "Like a diamond in the sky.\n",
            "Twinkle twinkle little star.\n",
            "How I wonder what you are.\n"
          ]
        }
      ],
      "source": [
        "print('''Twinkle twinkle little star.\n",
        "How I wonder what you are.\n",
        "Up above the world so high.\n",
        "Like a diamond in the sky.\n",
        "Twinkle twinkle little star.\n",
        "How I wonder what you are.\n",
        "\n",
        "Twinkle twinkle little star.\n",
        "How I wonder what you are.\n",
        "Up above the world so high.\n",
        "Like a diamond in the sky.\n",
        "Twinkle twinkle little star.\n",
        "How I wonder what you are.''')"
      ]
    },
    {
      "cell_type": "code",
      "source": [
        "a=45\n",
        "b=45\n",
        "print(a+b)"
      ],
      "metadata": {
        "colab": {
          "base_uri": "https://localhost:8080/"
        },
        "id": "x8klk9InLDJa",
        "outputId": "86f9aa0e-f403-4bd8-9fcd-91cc125faf3d"
      },
      "execution_count": 2,
      "outputs": [
        {
          "output_type": "stream",
          "name": "stdout",
          "text": [
            "90\n"
          ]
        }
      ]
    },
    {
      "cell_type": "code",
      "source": [
        "a=45\n",
        "b=5\n",
        "print(a%b)"
      ],
      "metadata": {
        "colab": {
          "base_uri": "https://localhost:8080/"
        },
        "id": "r680cRWmLlJg",
        "outputId": "5d426929-140c-4b07-a75d-4e6a17264afe"
      },
      "execution_count": 3,
      "outputs": [
        {
          "output_type": "stream",
          "name": "stdout",
          "text": [
            "0\n"
          ]
        }
      ]
    },
    {
      "cell_type": "code",
      "source": [
        "a=35.5\n",
        "print(type(a))"
      ],
      "metadata": {
        "colab": {
          "base_uri": "https://localhost:8080/"
        },
        "id": "dvBB33uSL5Z5",
        "outputId": "ca7abd1d-eb17-45ed-f7da-c98b6fe19cf5"
      },
      "execution_count": 4,
      "outputs": [
        {
          "output_type": "stream",
          "name": "stdout",
          "text": [
            "<class 'float'>\n"
          ]
        }
      ]
    },
    {
      "cell_type": "markdown",
      "source": [
        "#LET US TRY SAME THING TWO TIMES FOR BETTER UNDERSTANDING\n"
      ],
      "metadata": {
        "id": "8u2MQY_2MZE5"
      }
    },
    {
      "cell_type": "code",
      "source": [
        "a=34\n",
        "b=80\n",
        "if a>b:\n",
        "  print(\"A is greater than B\")\n",
        "else:\n",
        "  print(\"Not greater\")"
      ],
      "metadata": {
        "colab": {
          "base_uri": "https://localhost:8080/"
        },
        "id": "n8cRSBudMCmW",
        "outputId": "23343c44-d458-4cfb-db5d-12112338d445"
      },
      "execution_count": 13,
      "outputs": [
        {
          "output_type": "stream",
          "name": "stdout",
          "text": [
            "Not greater\n"
          ]
        }
      ]
    },
    {
      "cell_type": "code",
      "source": [
        "a=34\n",
        "b=80\n",
        "print(\"A is greater than b is\",a>b)"
      ],
      "metadata": {
        "colab": {
          "base_uri": "https://localhost:8080/"
        },
        "id": "5Z_TTdm6MYD2",
        "outputId": "dd81c4b0-fd21-4987-ea5a-700676c41a88"
      },
      "execution_count": 14,
      "outputs": [
        {
          "output_type": "stream",
          "name": "stdout",
          "text": [
            "A is greater than b is False\n"
          ]
        }
      ]
    },
    {
      "cell_type": "code",
      "source": [
        "#FIND THE SQUARE OF A NUMBER\n",
        "num=int(input(\"Enter a number\"))\n",
        "squ=num*num\n",
        "print(squ)"
      ],
      "metadata": {
        "colab": {
          "base_uri": "https://localhost:8080/"
        },
        "id": "HJ6a57R7M1PQ",
        "outputId": "c45dead1-02e1-4c25-934a-e58bdea35218"
      },
      "execution_count": 18,
      "outputs": [
        {
          "output_type": "stream",
          "name": "stdout",
          "text": [
            "Enter a number7\n",
            "49\n"
          ]
        }
      ]
    },
    {
      "cell_type": "code",
      "source": [
        "name=input(\"ENTER YOUR NAME\")\n",
        "print(f\"GOOD AFTER NOON {name}\")#used f string and it is used with curly brackets every time\n"
      ],
      "metadata": {
        "colab": {
          "base_uri": "https://localhost:8080/"
        },
        "id": "B8Zb3Tz8NMdb",
        "outputId": "2a92fc5d-8d24-4239-c261-d1536669c48a"
      },
      "execution_count": 16,
      "outputs": [
        {
          "output_type": "stream",
          "name": "stdout",
          "text": [
            "ENTER YOUR NAMESaisneha\n",
            "GOOD AFTER NOON Saisneha\n"
          ]
        }
      ]
    },
    {
      "cell_type": "code",
      "source": [
        "letter='''<|Name|>,\n",
        "          You are selected!\n",
        "          <|Date|>'''\n",
        "print(letter.replace(\"<|Name|>\",\"Sai\").replace(\"<|Date|>\",\"14 SEP 2025\"))\n"
      ],
      "metadata": {
        "colab": {
          "base_uri": "https://localhost:8080/"
        },
        "id": "lrkoStpWOIBr",
        "outputId": "9d675ab1-c9af-4588-9a4c-9367125931ec"
      },
      "execution_count": 22,
      "outputs": [
        {
          "output_type": "stream",
          "name": "stdout",
          "text": [
            "Sai,\n",
            "          You are selected!\n",
            "          14 SEP 2025\n"
          ]
        }
      ]
    },
    {
      "cell_type": "code",
      "source": [
        "name=(\"Saisneha is a good person\")#to find here that is there double space in this\n",
        "print(name.find(\"  \"))"
      ],
      "metadata": {
        "colab": {
          "base_uri": "https://localhost:8080/"
        },
        "id": "JZ6o6THZP2tg",
        "outputId": "55aa2aee-b915-43df-9151-df3f6d0ae057"
      },
      "execution_count": 24,
      "outputs": [
        {
          "output_type": "stream",
          "name": "stdout",
          "text": [
            "18\n"
          ]
        }
      ]
    },
    {
      "cell_type": "code",
      "source": [
        "#Strings are immutable that can not be changed when runned\n"
      ],
      "metadata": {
        "id": "sxDPxVhuQQPM"
      },
      "execution_count": null,
      "outputs": []
    },
    {
      "cell_type": "code",
      "source": [
        "a=45\n",
        "b=45\n",
        "avg=(a+b)/2\n",
        "print(avg)"
      ],
      "metadata": {
        "colab": {
          "base_uri": "https://localhost:8080/"
        },
        "id": "rYjlsGDmMpQU",
        "outputId": "1fe5f25d-3e52-425c-9814-7126997e87ed"
      },
      "execution_count": 25,
      "outputs": [
        {
          "output_type": "stream",
          "name": "stdout",
          "text": [
            "45.0\n"
          ]
        }
      ]
    },
    {
      "cell_type": "markdown",
      "source": [
        "#LIST"
      ],
      "metadata": {
        "id": "tvik6yTlQxyz"
      }
    },
    {
      "cell_type": "code",
      "source": [
        "name=[\"Kiara\",\"Damini\",\"Vineet\",\"Saisneha\"]\n",
        "print(name[0])\n",
        "print(name[1])\n",
        "print(name[2])\n",
        "print(name[0:3])\n"
      ],
      "metadata": {
        "colab": {
          "base_uri": "https://localhost:8080/"
        },
        "id": "p8iv8YUoUQTd",
        "outputId": "42840249-5674-4cbb-bae7-895a6cc3f7a3"
      },
      "execution_count": 37,
      "outputs": [
        {
          "output_type": "stream",
          "name": "stdout",
          "text": [
            "Kiara\n",
            "Damini\n",
            "Vineet\n",
            "['Kiara', 'Damini', 'Vineet']\n",
            "['Saisneha']\n"
          ]
        }
      ]
    },
    {
      "cell_type": "code",
      "source": [
        "#LIST METHODS\n",
        "name=[\"Kiara\",\"Damini\",\"Vineet\",\"Saisneha\"]\n",
        "print(name)\n",
        "\n",
        "\n",
        "name.append(\"Sakhi\")#append matlab last mai jod dena\n",
        "print(name)"
      ],
      "metadata": {
        "colab": {
          "base_uri": "https://localhost:8080/"
        },
        "id": "LzLO888kVPwB",
        "outputId": "b0335d85-2798-4363-847e-61a78ef8a30a"
      },
      "execution_count": 40,
      "outputs": [
        {
          "output_type": "stream",
          "name": "stdout",
          "text": [
            "['Kiara', 'Damini', 'Vineet', 'Saisneha']\n",
            "['Kiara', 'Damini', 'Vineet', 'Saisneha', 'Sakhi']\n"
          ]
        }
      ]
    },
    {
      "cell_type": "code",
      "source": [
        "#l1.sort yani ki vo sort kar degi in increasing order\n",
        "#l1.reverse yani ki vo reverse kar degi agar[1,2,3,4,5] hai toh vo [5,4,3,2,1]\n",
        "#l1.append yani ki vo last mai kuch jod dega whatever you wil insert\n",
        "#l1.insert yani ki vo uss index ki jafgah insert ho jayega for (eg).[\"kiara\",ki jagah we can insert 333] and then iski jagah it will be printed.\n"
      ],
      "metadata": {
        "id": "iTxunkjhYH58"
      },
      "execution_count": null,
      "outputs": []
    },
    {
      "cell_type": "code",
      "source": [
        "fruits=[]\n",
        "f1=input(\"enter fruit name:\")\n",
        "fruits.append(f1)\n",
        "f2=input(\"enter fruit name:\")\n",
        "fruits.append(f2)\n",
        "f3=input(\"enter fruit name:\")\n",
        "fruits.append(f3)\n",
        "f4=input(\"enter fruit name:\")\n",
        "fruits.append(f4)\n",
        "f5=input(\"enter fruit name:\")\n",
        "fruits.append(f5)\n",
        "f6=input(\"enter fruit name:\")\n",
        "fruits.append(f6)\n",
        "f7=input(\"enter fruit name:\")\n",
        "fruits.append(f7)\n",
        "\n",
        "print(fruits)"
      ],
      "metadata": {
        "colab": {
          "base_uri": "https://localhost:8080/"
        },
        "id": "Hiq07IbtZwtV",
        "outputId": "f7367526-5a94-4f89-9707-6a7d812665fc"
      },
      "execution_count": 43,
      "outputs": [
        {
          "output_type": "stream",
          "name": "stdout",
          "text": [
            "enter fruit name:Banana\n",
            "enter fruit name:Mango\n",
            "enter fruit name:Kiwi\n",
            "enter fruit name:Litchi\n",
            "enter fruit name:Grapes\n",
            "enter fruit name:Pineapple\n",
            "enter fruit name:Water melon\n",
            "['Banana', 'Mango', 'Kiwi', 'Litchi', 'Grapes', 'Pineapple', 'Water melon']\n"
          ]
        }
      ]
    },
    {
      "cell_type": "code",
      "source": [],
      "metadata": {
        "id": "fiZHNMJ4drK8"
      },
      "execution_count": null,
      "outputs": []
    }
  ]
}