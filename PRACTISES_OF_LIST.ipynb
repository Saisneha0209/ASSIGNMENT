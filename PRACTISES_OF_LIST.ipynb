{
  "nbformat": 4,
  "nbformat_minor": 0,
  "metadata": {
    "colab": {
      "provenance": [],
      "authorship_tag": "ABX9TyN0aGXWGvwBUtJvbogbXLab",
      "include_colab_link": true
    },
    "kernelspec": {
      "name": "python3",
      "display_name": "Python 3"
    },
    "language_info": {
      "name": "python"
    }
  },
  "cells": [
    {
      "cell_type": "markdown",
      "metadata": {
        "id": "view-in-github",
        "colab_type": "text"
      },
      "source": [
        "<a href=\"https://colab.research.google.com/github/Saisneha0209/ASSIGNMENT/blob/main/PRACTISES_OF_LIST.ipynb\" target=\"_parent\"><img src=\"https://colab.research.google.com/assets/colab-badge.svg\" alt=\"Open In Colab\"/></a>"
      ]
    },
    {
      "cell_type": "code",
      "execution_count": 2,
      "metadata": {
        "colab": {
          "base_uri": "https://localhost:8080/"
        },
        "id": "6VEnWtpcPt3S",
        "outputId": "c3f3db8a-bfe4-4eaf-e5a2-93c090deca1c"
      },
      "outputs": [
        {
          "output_type": "execute_result",
          "data": {
            "text/plain": [
              "15"
            ]
          },
          "metadata": {},
          "execution_count": 2
        }
      ],
      "source": [
        "#QUESTIONS PRACTISE\n",
        "str1=\"Saisneha Muduli\"\n",
        "len(str1)\n"
      ]
    },
    {
      "cell_type": "code",
      "source": [
        "str1=\"I am the s symbol\"#TO FIND THE OCCURENCE OF A PARTICULAR ELEMENT IN THE GIVEN VARIABLE\n",
        "print(str1.count(\"s\"))"
      ],
      "metadata": {
        "colab": {
          "base_uri": "https://localhost:8080/"
        },
        "id": "wvuefcQhRgi5",
        "outputId": "45dafc6a-d3bb-41d5-d683-fa4d915cadae"
      },
      "execution_count": 3,
      "outputs": [
        {
          "output_type": "stream",
          "name": "stdout",
          "text": [
            "2\n"
          ]
        }
      ]
    },
    {
      "cell_type": "code",
      "source": [
        "str=\"hello\"\n",
        "print(str[0])"
      ],
      "metadata": {
        "colab": {
          "base_uri": "https://localhost:8080/"
        },
        "id": "SM6rP95nRuQY",
        "outputId": "86cd15c9-e6ae-4580-ba13-fed195f8b5c8"
      },
      "execution_count": 4,
      "outputs": [
        {
          "output_type": "stream",
          "name": "stdout",
          "text": [
            "h\n"
          ]
        }
      ]
    },
    {
      "cell_type": "code",
      "source": [
        "student=[\"karan\"]\n",
        "print(student[0])\n",
        "student[0]=\"arjun\"\n",
        "print(student)"
      ],
      "metadata": {
        "colab": {
          "base_uri": "https://localhost:8080/"
        },
        "id": "Uj4VFXEmc_xB",
        "outputId": "4964306b-f74b-41da-ffac-8cece7d72a41"
      },
      "execution_count": 6,
      "outputs": [
        {
          "output_type": "stream",
          "name": "stdout",
          "text": [
            "karan\n",
            "['arjun']\n"
          ]
        }
      ]
    },
    {
      "cell_type": "code",
      "source": [
        "marks2=[100,200,300,400,500]\n",
        "marks2.append(5)#append matlab kisi bhi chiz ko last mai add kar dena\n",
        "print(marks2)"
      ],
      "metadata": {
        "colab": {
          "base_uri": "https://localhost:8080/"
        },
        "id": "tbtsSN0KdSQ0",
        "outputId": "c4fc8996-6778-49fd-d47e-9af4a688be53"
      },
      "execution_count": 12,
      "outputs": [
        {
          "output_type": "stream",
          "name": "stdout",
          "text": [
            "[100, 200, 300, 400, 500, 5]\n"
          ]
        }
      ]
    },
    {
      "cell_type": "code",
      "source": [
        "movies=[]\n",
        "mov1=input(\"enter 1st movie:\")\n",
        "mov2=input(\"enter 2nd movie:\")\n",
        "mov3=input(\"enter 3rd movie:\")\n",
        "mov4=input(\"enter 4th movie:\")\n",
        "\n",
        "movies.append(mov1)\n",
        "movies.append(mov2)\n",
        "movies.append(mov3)\n",
        "movies.append(mov4)\n",
        "print(movies)"
      ],
      "metadata": {
        "colab": {
          "base_uri": "https://localhost:8080/"
        },
        "id": "gAKloCTBeTCD",
        "outputId": "d1c84b10-5114-4527-b9dd-41557350c699"
      },
      "execution_count": 15,
      "outputs": [
        {
          "output_type": "stream",
          "name": "stdout",
          "text": [
            "enter 1st movie:Fighter\n",
            "enter 2nd movie:The Ghazi Attack\n",
            "enter 3rd movie:Article 370\n",
            "enter 4th movie:Khakee:THE REAL CHAPTER\n",
            "['Fighter', 'The Ghazi Attack', 'Article 370', 'Khakee:THE REAL CHAPTER']\n"
          ]
        }
      ]
    }
  ]
}