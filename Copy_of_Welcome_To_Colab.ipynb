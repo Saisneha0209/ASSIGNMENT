{
  "cells": [
    {
      "cell_type": "markdown",
      "metadata": {
        "id": "view-in-github",
        "colab_type": "text"
      },
      "source": [
        "<a href=\"https://colab.research.google.com/github/Saisneha0209/ASSIGNMENT/blob/main/Copy_of_Welcome_To_Colab.ipynb\" target=\"_parent\"><img src=\"https://colab.research.google.com/assets/colab-badge.svg\" alt=\"Open In Colab\"/></a>"
      ]
    },
    {
      "cell_type": "code",
      "source": [
        "#This will print simple greeting message\n",
        "print(\"Hello World\")"
      ],
      "metadata": {
        "colab": {
          "base_uri": "https://localhost:8080/"
        },
        "id": "z9gtqrN7JVcz",
        "outputId": "dc420cb4-bb7d-4f9b-d7ac-7f03a6a036ed"
      },
      "execution_count": null,
      "outputs": [
        {
          "output_type": "stream",
          "name": "stdout",
          "text": [
            "Hello World\n"
          ]
        }
      ]
    },
    {
      "cell_type": "markdown",
      "source": [
        "#Now we will perform some basic operations."
      ],
      "metadata": {
        "id": "0ny6GE1MK3PM"
      }
    },
    {
      "cell_type": "code",
      "source": [
        "#Performing Basic Operations\n",
        "a=15\n",
        "b=25\n",
        "print(\"Addition:\",a+b)\n",
        "print(\"Subtraction:\",a-b)\n",
        "print(\"Multiplication:\",a*b)\n",
        "print(\"Division:\",a/b)\n"
      ],
      "metadata": {
        "colab": {
          "base_uri": "https://localhost:8080/"
        },
        "id": "WKssG2cGJ6za",
        "outputId": "c0ae83e4-a344-467b-81d6-259494035683"
      },
      "execution_count": null,
      "outputs": [
        {
          "output_type": "stream",
          "name": "stdout",
          "text": [
            "Addition: 40\n",
            "Subtraction: -10\n",
            "Multiplication: 375\n",
            "Division: 0.6\n"
          ]
        }
      ]
    },
    {
      "cell_type": "markdown",
      "source": [
        "#Now we will try to code so that the input must be from user itself."
      ],
      "metadata": {
        "id": "5jL57dXCKsKF"
      }
    },
    {
      "cell_type": "code",
      "source": [
        "#Taking input from user\n",
        "name=input(\"Enter your name:\")\n",
        "age=input(\"Enter your age:\")\n",
        "print(\"Hello\",name +\"!\")\n",
        "print(\"You are\",age,\"years old.\")"
      ],
      "metadata": {
        "colab": {
          "base_uri": "https://localhost:8080/"
        },
        "id": "Xd-Ecs5iKidB",
        "outputId": "33d03b40-fbb8-4b34-8f5a-bca26635f366"
      },
      "execution_count": null,
      "outputs": [
        {
          "output_type": "stream",
          "name": "stdout",
          "text": [
            "Enter your name:Saisneha\n",
            "Enter your age:16\n",
            "Hello Saisneha!\n",
            "You are 16 years old.\n"
          ]
        }
      ]
    },
    {
      "cell_type": "markdown",
      "source": [
        "#Here we have tried the multi line comment using straight single quote three times."
      ],
      "metadata": {
        "id": "4ZBHRfUxNja8"
      }
    },
    {
      "cell_type": "code",
      "source": [
        "'''Hello everyone.\n",
        "This is Saisneha,\n",
        "demonstarting some basic codesof python\n",
        "'''\n",
        "print(\"Hello World!\")"
      ],
      "metadata": {
        "id": "44h-eAq5MyOz",
        "outputId": "7d599fc0-163e-4df5-cd3f-84f9da40ab4d",
        "colab": {
          "base_uri": "https://localhost:8080/"
        }
      },
      "execution_count": null,
      "outputs": [
        {
          "output_type": "stream",
          "name": "stdout",
          "text": [
            "Hello World!\n"
          ]
        }
      ]
    },
    {
      "cell_type": "markdown",
      "source": [
        "#Lets write a series line wise according to its part and the year it was released"
      ],
      "metadata": {
        "id": "UfciBaWpPXlO"
      }
    },
    {
      "cell_type": "code",
      "source": [
        "#A complete series of harry potter line wise.\n",
        "print(\"1.HARRY POTTER and the Philosopher's Stone (1997)\")\n",
        "print(\"2.HARRY POTTER and the Chamber of Secrets (1998)\")\n",
        "print(\"3.HARRY POTTER and the Prisoner of Azkaban (1999)\")\n",
        "print(\"4.HARRY POTTER and the Goblet of Fire (2000)\")\n",
        "print(\"5.HARRY POTTER and the Order of the Phoenix (2003)\")\n",
        "print(\"6.HARRY POTTER and the Half-Blood Prince (2005)\")\n",
        "print(\"7.HARRY POTTER and the Deathly Hallows (2007)\")\n",
        "\n"
      ],
      "metadata": {
        "id": "4ZzpxIj1N6fY",
        "outputId": "6e121e5f-8d7e-4597-f73e-996ffc7a8bb6",
        "colab": {
          "base_uri": "https://localhost:8080/"
        }
      },
      "execution_count": null,
      "outputs": [
        {
          "output_type": "stream",
          "name": "stdout",
          "text": [
            "1.HARRY POTTER and the Philosopher's Stone (1997)\n",
            "2.HARRY POTTER and the Chamber of Secrets (1998)\n",
            "3.HARRY POTTER and the Prisoner of Azkaban (1999)\n",
            "4.HARRY POTTER and the Goblet of Fire (2000)\n",
            "5.HARRY POTTER and the Order of the Phoenix (2003)\n",
            "6.HARRY POTTER and the Half-Blood Prince (2005)\n",
            "7.HARRY POTTER and the Deathly Hallows (2007)\n"
          ]
        }
      ]
    },
    {
      "cell_type": "markdown",
      "source": [
        "#LIST OF PRESIDENTS OF INDIA"
      ],
      "metadata": {
        "id": "5HN3OUyVT6mw"
      }
    },
    {
      "cell_type": "code",
      "source": [
        "#LIST OF PRESIDENT OF INDIA FROM EARLY TO TILL DATE\n",
        "print(\"1.Rajendra Prasad (1884–1963)\")\n",
        "print(\"2.Sarvepalli Radhakrishnan (1888–1975)\")\n",
        "print(\"3.Zakir Husain (1897–1969)\")\n",
        "print(\"4.V.V Giri (1894–1980)\t\")\n",
        "print(\"5.Mohammad Hidayatullah (1905–1992)\")\n",
        "print(\"6.V.V Giri (1894–1980)\t\")\n",
        "print(\"7.Fakhruddin Ali Ahmed (1905–1977)\")\n",
        "print(\"8.B.D Jatti (1912–2002)\")\n",
        "print(\"9.Neelam Sanjiva Reddy (1913–1996)\")\n",
        "print(\"10.Zail Singh (1916–1994)\")\n",
        "print(\"11.Ramaswamy Venkataraman (1910–2009)\")\n",
        "print(\"12.Shankar Dayal Sharma (1918–1999)\")\n",
        "print(\"13.K.R Narayanan (1920–2005)\t\")\n",
        "print(\"14.A.P.J Abdul Kalam (1931–2015)\")\n",
        "print(\"15.Pratibha Patil (1934-2012)\")\n",
        "print(\"16.Pranab Mukherjee (1935–2020)\")\n",
        "print(\"17Ram Nath Kovind (1945-2022)\")\n",
        "print(\"18.Droupadi Murmu(1958-2025)\")\n"
      ],
      "metadata": {
        "id": "bHBTxpI9PugV",
        "outputId": "fc95c677-9ccd-4e9a-b502-6f05799a077d",
        "colab": {
          "base_uri": "https://localhost:8080/"
        }
      },
      "execution_count": null,
      "outputs": [
        {
          "output_type": "stream",
          "name": "stdout",
          "text": [
            "1.Rajendra Prasad (1884–1963)\n",
            "2.Sarvepalli Radhakrishnan (1888–1975)\n",
            "3.Zakir Husain (1897–1969)\n",
            "4.V.V Giri (1894–1980)\t\n",
            "5.Mohammad Hidayatullah (1905–1992)\n",
            "6.V.V Giri (1894–1980)\t\n",
            "7.Fakhruddin Ali Ahmed (1905–1977)\n",
            "8.B.D Jatti (1912–2002)\n",
            "9.Neelam Sanjiva Reddy (1913–1996)\n",
            "10.Zail Singh (1916–1994)\n",
            "11.Ramaswamy Venkataraman (1910–2009)\n",
            "12.Shankar Dayal Sharma (1918–1999)\n",
            "13.K.R Narayanan (1920–2005)\t\n",
            "14.A.P.J Abdul Kalam (1931–2015)\n",
            "15.Pratibha Patil (1934-2012)\n",
            "16.Pranab Mukherjee (1935–2020)\n",
            "17Ram Nath Kovind (1945-2022)\n",
            "18.Droupadi Murmu(1958-2025)\n"
          ]
        }
      ]
    }
  ],
  "metadata": {
    "colab": {
      "provenance": [],
      "include_colab_link": true
    },
    "kernelspec": {
      "display_name": "Python 3",
      "name": "python3"
    }
  },
  "nbformat": 4,
  "nbformat_minor": 0
}