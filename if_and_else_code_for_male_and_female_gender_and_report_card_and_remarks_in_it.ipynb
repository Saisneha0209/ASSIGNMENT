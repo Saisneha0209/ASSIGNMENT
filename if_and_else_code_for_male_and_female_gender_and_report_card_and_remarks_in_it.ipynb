{
  "nbformat": 4,
  "nbformat_minor": 0,
  "metadata": {
    "colab": {
      "provenance": [],
      "authorship_tag": "ABX9TyNAsHvvtkk0ieFrqiFs408t",
      "include_colab_link": true
    },
    "kernelspec": {
      "name": "python3",
      "display_name": "Python 3"
    },
    "language_info": {
      "name": "python"
    }
  },
  "cells": [
    {
      "cell_type": "markdown",
      "metadata": {
        "id": "view-in-github",
        "colab_type": "text"
      },
      "source": [
        "<a href=\"https://colab.research.google.com/github/Saisneha0209/ASSIGNMENT/blob/main/if_and_else_code_for_male_and_female_gender_and_report_card_and_remarks_in_it.ipynb\" target=\"_parent\"><img src=\"https://colab.research.google.com/assets/colab-badge.svg\" alt=\"Open In Colab\"/></a>"
      ]
    },
    {
      "cell_type": "code",
      "execution_count": 10,
      "metadata": {
        "id": "-xpxfaM1S7xm",
        "colab": {
          "base_uri": "https://localhost:8080/"
        },
        "outputId": "200a20f8-10f6-43a9-deaa-f5c8b1a06dac"
      },
      "outputs": [
        {
          "output_type": "stream",
          "name": "stdout",
          "text": [
            "Enter your gender:male\n",
            "enter your age15\n",
            "assigned building is block1\n",
            "hotel assigned is HOTEL B\n",
            "hotel assigned is HOTEL B\n"
          ]
        }
      ],
      "source": [
        "\n",
        "gender=input(\"Enter your gender:\")\n",
        "age = int(input(\"enter your age\"))\n",
        "if gender == \"male\" or gender == \"female\":\n",
        "  if gender == \"male\" :\n",
        "   print(\"assigned building is block1\")\n",
        "   if age >=20:\n",
        "    print(\"hotel assigned to this age group is HOTEL A\")\n",
        "   else:\n",
        "     print(\"hotel assigned is HOTEL B\")\n",
        "  else:\n",
        "   print(\"assigned building is block2\")\n",
        "  if age>=21:\n",
        "    print(\"hotel assigned to this age group is HOTEL A\")\n",
        "  else:\n",
        "    print(\"hotel assigned is HOTEL B\")\n",
        "\n",
        "else:\n",
        "  print(\"user has put invalid input,not defined\")\n"
      ]
    },
    {
      "cell_type": "code",
      "source": [
        "gender = input(\"enter the gender:\")\n",
        "if gender == \"male\" or  gender == \"female\":\n",
        " print(\"you have put valid input\")\n",
        "else:\n",
        "  print(\"you have put invalid input\")\n"
      ],
      "metadata": {
        "colab": {
          "base_uri": "https://localhost:8080/"
        },
        "id": "8FNWk3PEoq1f",
        "outputId": "fe46f4f0-ff11-4936-e9bf-c6587b069dd9"
      },
      "execution_count": null,
      "outputs": [
        {
          "output_type": "stream",
          "name": "stdout",
          "text": [
            "enter the gender:afgh\n",
            "you have put invalid input\n"
          ]
        }
      ]
    },
    {
      "cell_type": "code",
      "source": [
        "# Simple Grade and Remark Program\n",
        "# Taking marks input from the user\n",
        "marks = float(input(\"Enter your marks (0-100): \"))\n",
        "# Using if-elif-else for grading\n",
        "if marks > 100 or marks < 0:\n",
        "    grade = \"Invalid\"\n",
        "    remark = \"Marks should be between 0 and 100.\"\n",
        "elif marks >= 90:\n",
        "    grade = \"A\"\n",
        "    remark = \"Excellent! Superb performance!\"\n",
        "elif marks >= 80:\n",
        "    grade = \"B\"\n",
        "    remark = \"Very Good! Keep it up.\"\n",
        "elif marks >= 70:\n",
        "    grade = \"C\"\n",
        "    remark = \"Good job, but you can do better.\"\n",
        "elif marks >= 60:\n",
        "    grade = \"D\"\n",
        "    remark = \"Satisfactory. Work harder next time.\"\n",
        "else:\n",
        "    grade = \"F\"\n",
        "    remark = \"Fail. Needs a lot of improvement.\"\n",
        "\n",
        "# Displaying the result\n",
        "print(\"Grade:\",grade)\n",
        "print(\"Remark:\",remark)\n"
      ],
      "metadata": {
        "colab": {
          "base_uri": "https://localhost:8080/"
        },
        "id": "QmeeRjXruvr5",
        "outputId": "6359ce45-ff3b-4527-ce2e-6d17506364af"
      },
      "execution_count": 24,
      "outputs": [
        {
          "output_type": "stream",
          "name": "stdout",
          "text": [
            "Enter your marks (0-100): 25\n",
            "Grade: F\n",
            "Remark: Fail. Needs a lot of improvement.\n"
          ]
        }
      ]
    }
  ]
}